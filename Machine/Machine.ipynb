{
 "cells": [
  {
   "cell_type": "code",
   "execution_count": 1,
   "metadata": {},
   "outputs": [],
   "source": [
    "import docx2txt\n",
    "\n",
    "def get_resume():\n",
    "    temp = docx2txt.process(\"Manan_Bhatt_Resume (1).docx\")\n",
    "    text = [line.replace('\\t', ' ') for line in temp.split('\\n') if line]\n",
    "    return ' '.join(text)"
   ]
  },
  {
   "cell_type": "code",
   "execution_count": 2,
   "metadata": {},
   "outputs": [],
   "source": [
    "import spacy\n",
    "from spacy.matcher import Matcher\n",
    "\n",
    "nlp = spacy.load('en_core_web_sm')\n",
    "matcher = Matcher(nlp.vocab)\n",
    "\n",
    "def get_name(resume):\n",
    "    nlp_text = nlp(resume)\n",
    "    pattern = [{'POS': 'PROPN'}, {'POS': 'PROPN'}]\n",
    "    matcher.add('NAME', [pattern])\n",
    "    matcher_list = matcher(nlp_text)\n",
    "    \n",
    "    for match_id, start, end in matcher_list:\n",
    "        span = nlp_text[start:end]\n",
    "        return span.text"
   ]
  },
  {
   "cell_type": "code",
   "execution_count": 3,
   "metadata": {},
   "outputs": [],
   "source": [
    "import re\n",
    "\n",
    "def get_email_address(resume):\n",
    "    email = re.findall(\"([^@|\\s]+@[^@]+\\.[^@|\\s]+)\", resume)\n",
    "    if email:\n",
    "        try:\n",
    "            return email[0].split()[0].strip(';')\n",
    "        except IndexError:\n",
    "            return None"
   ]
  },
  {
   "cell_type": "code",
   "execution_count": 4,
   "metadata": {},
   "outputs": [],
   "source": [
    "import pandas as pd\n",
    "import spacy\n",
    "\n",
    "def get_skills(resume):\n",
    "    nlp_text = nlp(resume)\n",
    "    noun_chunks = nlp_text.noun_chunks\n",
    "    tokens = [token.text for token in nlp_text if not token.is_stop]\n",
    "    df = pd.read_csv(\"skill_keywords.csv\")\n",
    "    skills = list(df.columns.values)\n",
    "    skill_list = []\n",
    "    \n",
    "    for token in tokens:\n",
    "        if token in skills:\n",
    "            skill_list.append(token)\n",
    "    \n",
    "    \n",
    "    for token in noun_chunks:\n",
    "        token = token.text.strip()\n",
    "        if token in skills:\n",
    "            skill_list.append(token)\n",
    "    \n",
    "    return set(skill_list)"
   ]
  },
  {
   "cell_type": "code",
   "execution_count": 5,
   "metadata": {},
   "outputs": [],
   "source": [
    "import re\n",
    "import spacy\n",
    "from nltk.corpus import stopwords\n",
    "\n",
    "nlp = spacy.load('en_core_web_sm')\n",
    "\n",
    "STOPWORDS = set(stopwords.words('english'))\n",
    "\n",
    "DEGREE_TYPES = [\n",
    "            'PhD', 'MBA', 'BA', 'BS', 'MA', 'MS'\n",
    "        ]\n",
    "\n",
    "def get_degree(resume):\n",
    "    nlp_text = nlp(resume)\n",
    "    nlp_text = [sent.text.strip() for sent in nlp_text.sents]\n",
    "\n",
    "    degree = {}\n",
    "    for i, text in enumerate(nlp_text):\n",
    "        for temp in text.split():\n",
    "            temp = re.sub(r'[?|$|.|!|,]', r'', temp)\n",
    "            if temp.upper() in DEGREE_TYPES and temp not in STOPWORDS:\n",
    "                degree[temp] = text + nlp_text[i + 1]\n",
    "\n",
    "    degree_year = []\n",
    "    for i in degree.keys():\n",
    "        year = re.search(re.compile(r'(((20|19)(\\d{2})))'), degree[i])\n",
    "        if year:\n",
    "            degree_year.append((i, ''.join(year[0])))\n",
    "        else:\n",
    "            degree_year.append(i)\n",
    "   \n",
    "    return degree_year"
   ]
  },
  {
   "cell_type": "code",
   "execution_count": 6,
   "metadata": {},
   "outputs": [],
   "source": [
    "resume = get_resume()\n",
    "\n",
    "name = get_name(resume)\n",
    "email_address = get_email_address(resume)\n",
    "skills = get_skills(resume)\n",
    "degree = get_degree(resume)\n",
    "\n",
    "profile = open(\"bias_free_profile.txt\", \"a\")\n",
    "profile.write(\"Name: \" + name + \"\\n\")\n",
    "profile.write(\"Email: \" + email_address + \"\\n\")\n",
    "profile.write(\"Skills: \" + str(skills) + \"\\n\")\n",
    "profile.write(\"Degree: \" + str(degree) + \"\\n\")\n",
    "profile.close()"
   ]
  },
  {
   "cell_type": "code",
   "execution_count": null,
   "metadata": {},
   "outputs": [],
   "source": []
  },
  {
   "cell_type": "code",
   "execution_count": null,
   "metadata": {},
   "outputs": [],
   "source": []
  },
  {
   "cell_type": "code",
   "execution_count": null,
   "metadata": {},
   "outputs": [],
   "source": []
  }
 ],
 "metadata": {
  "kernelspec": {
   "display_name": "Python 3",
   "language": "python",
   "name": "python3"
  },
  "language_info": {
   "codemirror_mode": {
    "name": "ipython",
    "version": 3
   },
   "file_extension": ".py",
   "mimetype": "text/x-python",
   "name": "python",
   "nbconvert_exporter": "python",
   "pygments_lexer": "ipython3",
   "version": "3.8.3"
  }
 },
 "nbformat": 4,
 "nbformat_minor": 4
}
